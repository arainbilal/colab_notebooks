{
  "nbformat": 4,
  "nbformat_minor": 0,
  "metadata": {
    "colab": {
      "provenance": [],
      "authorship_tag": "ABX9TyMfJt9an53L+ducOORf8oxS",
      "include_colab_link": true
    },
    "kernelspec": {
      "name": "python3",
      "display_name": "Python 3"
    },
    "language_info": {
      "name": "python"
    },
    "widgets": {
      "application/vnd.jupyter.widget-state+json": {
        "39c6915b39e2419b9805ff085d061d54": {
          "model_module": "jupyter-matplotlib",
          "model_name": "MPLCanvasModel",
          "model_module_version": "^0.11",
          "state": {
            "_cursor": "default",
            "_data_url": "data:image/png;base64,iVBORw0KGgoAAAANSUhEUgAAAoAAAAHgCAYAAAA10dzkAAAAOXRFWHRTb2Z0d2FyZQBNYXRwbG90bGliIHZlcnNpb24zLjcuMSwgaHR0cHM6Ly9tYXRwbG90bGliLm9yZy/bCgiHAAAACXBIWXMAAA9hAAAPYQGoP6dpAAAt+0lEQVR4nO3deXhU5cH+8XsWE7ZkFGQREjZBEDCoASIIKptIFRHfKsVYlkp/lQbZpGi0slgxuFAFQ5EXRWyLhdZXQEFQEYgoAoEYVjcQJCACos4Y0EBm5vfHaZYhQQMkcyZ5vp/rmivMOTPDndTG2+ec53kcwWAwKAAAABjDaXcAAAAAhBcFEAAAwDAUQAAAAMNQAAEAAAxDAQQAADAMBRAAAMAwFEAAAADDUAABAAAMQwEEAAAwDAUQAADAMBRAAAAAw1AAAQAADEMBBAAAMAwFEAAAwDAUQAAAAMNQAAEAAAxDAQQAADAMBRAAAMAwFEAAAADDUAABAAAMQwEEAAAwDAUQAADAMBRAAAAAw1AAAQAADEMBBAAAMAwFEAAAwDAUQAAAAMNQAAEAAAxDAQQAADAMBRAAAMAwFEAAAADDUAABAAAMQwEEAAAwDAUQAADAMBRAAAAAw1AAAQAADEMBBAAAMAwFEAAAwDAUQAAAAMNQAAEAAAxDAQQAADAMBRAAAMAwFEAAAADDUAABAAAMQwEEAAAwDAUQAADAMBRAAAAAw1AAAQAADEMBBAAAMAwFEAAAwDAUQAAAAMNQAAEAAAxDATTU5MmT5XA4Qh6tW7e2OxYAAAgDt90BYJ+2bdtq1apVhc/dbv5xAADABPwb32But1sNGjSwOwYAAAgzLgEb7PPPP1fDhg3VvHlzJScna//+/XZHAgAAYeAIBoNBu0Mg/FasWKHc3Fy1atVKhw4d0pQpU3Tw4EHt2LFDMTExJV6fl5envLy8wueBQEDffvut6tSpI4fDEc7oAIByEAwG9cMPP6hhw4ZyOhkPMg0FEJKk77//Xk2aNNFf//pX3XPPPSXOT548WVOmTLEhGQCgIuXk5CguLs7uGAgzCiAKdezYUb169VJaWlqJc6ePAHq9XjVu3Fg5OTmKjY0NZ0wAQDnw+XyKj4/X999/L4/HY3cchBmTQCBJys3N1Z49e/Tb3/621PPR0dGKjo4ucTw2NpYCCACVGLfxmImL/oYaP368MjIytG/fPq1fv14DBgyQy+XSoEGD7I4GAAAqGCOAhjpw4IAGDRqkY8eOqW7duuratas2bNigunXr2h0NAABUMAqgoRYuXGh3BAAAYBMuAQMAABiGAggAAGAYCiAAAIBhKIAAAACGoQACAAAYhgIIAABgGAogAACAYSiAAAAAhqEAAgAAGIYCCAAAYBgKIAAAgGEogAAAAIahAAIAABiGAggAAGAYCiAAAIBhKIAAAACGoQACAAAYhgIIAABgGAogAACAYSiAAAAAhqEAAgAAGIYCCAAAYBgKIAAAgGEogAAAAIahAAIAABiGAggAAGAYCiAAAIBhKIAAAACGoQACAAAYhgIIAABgGAogAACAYSiAAAAAhqEAAgAAGIYCCAAAYBgKIAAAgGEogAAAAIahAAIAABiGAggAAGAYCiAAAIBhKIAAAACGoQACAAAYhgIIAABgGAogAACAYSiAAAAAhqEAAgAAGIYCCAAAYBgKIAAAgGEogAAAAIahAAIAABiGAggAAGAYCiAAAIBhKIAAAACGoQACAAAYhgIIAABgGAogAACAYSiAAAAAhqEAAgAAGIYCCAAAYBgKIAAAgGEogAAAAIahAAIAABiGAggAAGAYCiAAAIBhKIDQtGnT5HA4NGbMGLujAACAMKAAGi4zM1Nz5sxRQkKC3VEAAECYUAANlpubq+TkZM2dO1cXXXSR3XEAAECYUAANlpKSoptvvlm9evWyOwoAAAgjt90BYI+FCxcqKytLmZmZZXp9Xl6e8vLyCp/7fL6KigYAACoYI4AGysnJ0ejRo7VgwQJVq1atTO9JS0uTx+MpfMTHx1dwSgAAUFEcwWAwaHcIhNeSJUs0YMAAuVyuwmN+v18Oh0NOp1N5eXkh56TSRwDj4+Pl9XoVGxsbtuwAgPLh8/nk8Xj4PW4oLgEbqGfPntq+fXvIsWHDhql169Z64IEHSpQ/SYqOjlZ0dHS4IgIAgApEATRQTEyM2rVrF3KsZs2aqlOnTonjAACg6uEeQAAAAMMwAghJ0tq1a+2OAAAAwoQRQAAAAMNQAAEAAAxDAQQAADAMBRAAAMAwFEAAAADDUAABAAAMQwEEAAAwDAUQAADAMBRAAAAAw1AAAQAADEMBBAAAMAwFEAAAwDAUQAAAAMNQAAEAAAxDAQQAADAMBRAAAMAwFEAAAADDUAABAAAMQwEEAAAwDAUQAADAMBRAAAAAw1AAAQAADEMBBAAAMAwFEAAAwDAUQAAAAMNQAAEAAAxDAQQAADAMBRAAAMAwFEAAAADDUAABAAAMQwEEAAAwDAUQAADAMBRAAAAAw1AAAQAADEMBBAAAMAwFEAAAwDAUQAAAAMNQAAEAAAxDAQQAADAMBRAAAMAwFEAAAADDUAABAAAMQwEEAAAwDAUQAADAMBRAAAAAw1AAAQAADEMBBAAAMAwFEAAAwDAUQAAAAMNQAAEAAAxDAQQAADAMBRAAAMAwFEAAAADDUAABAAAMQwEEAAAwDAUQAADAMBRAAAAAw1AAAQAADEMBBAAAMAwFEAAAwDAUQAAAAMNQABGx8vOl5s2lUaNKnrv3XqllS+mbb8KfCwCAyo4CiIjldkupqdK8edK33xYdT0uT/u//pBUrpIsvti8fAACVFQXQULNnz1ZCQoJiY2MVGxurzp07a8WKFXbHKmHIEKl2bSk93Xq+YIH02GPS669LLVrYmw0AgMqKAmiouLg4TZs2TVu2bNHmzZvVo0cP9e/fXzt37rQ7WoioKGnCBKsAvvmmNHy49I9/SJ07250MAIDKyxEMBoN2h0BkqF27tp566indc889v/han88nj8cjr9er2NjYCs31009Ss2bSkSPS9OnSmDElX3PnndLBg9IHH1RoFACoMsL5exyRx213ANjP7/frP//5j44fP67OZxhay8vLU15eXuFzn88XrniqVk3q3l3KySm9/G3bZp3bvTtskQAAqNS4BGyw7du3q1atWoqOjta9996rxYsXq02bNqW+Ni0tTR6Pp/ARHx8f1qzbtklJSaWfmzhRevxx6cILpUOHwhoLAIBKiQJosFatWik7O1sbN27UiBEjNGTIEO3atavU16ampsrr9RY+cnJywpbzxAnpk0+kxMSS5zIzpdxca4SwdWvpDPEBAEAxXAI2WFRUlFr8dyptYmKiMjMzNWPGDM2ZM6fEa6OjoxUdHR3uiJKkrVslv1+6+uqS5yZOlP7yF+vPBQWwZ8/w5gMAoLKhAKJQIBAIuc8vUmRlSbVqSZddFnr8gw+kjAxp0CDreW6udMcd4c8HAEBlwyVgQ6Wmpuq9997Tvn37tH37dqWmpmrt2rVKTk62O1oJKSnSDz9IDkfo8UcekVatkvbtsx7Ll3MJGACAsmAE0FBHjhzR4MGDdejQIXk8HiUkJOitt95S79697Y5WJqtXW1+7dCk61rIlBRAAgLJgHUCcE9aPAoDKjd/jZuMSMAAAgGEogAAAAIahAKJK+eoriZsaAAD4eRRAVBlHj0qNGkmjR0uBgN1pAACIXBRAVBl16kgxMdJzz0m/+52Un293IgAAIhMFEFWG0yl162b9+e9/l+68U4rAda0BALAdBRBVynXXWUUwGJSWLpVuucXaSxgAABShAKJK6dat6P6/QMBaMLp3b8nrtTcXAACRhAKIKiUxUbrggqLngYC0caM1MvjNN/blAgAgklAAUaVER0udOoUe8/ulnTutbeMOHrQnFwAAkYQCiCrn+usl92m7XPv90hdfSJ07W18BADAZBRBVTrdupS8B4/dbC0Vfc420a1f4cwEAECkogKhyOneWHI7Sz/n91r2AXbpIW7aENxcAAJGCAogqx+OR2rQ58/lg0JoV/PTT4csEAEAkoQCiSureveR9gAX+8hdp927p5ZfDmwkAgEhBAUSVdPp9gAWXhJ1O6cUXpbg4KSrKnmwAANiNAogqqWvXoj/fcot12Vey1gX88ktp5kx7cgEAEAkogKiSGjaUmje3FoBeulRKSpJcLutcMChNniwdPmxrRAAAbEMBRJWVkSEtW2Zd9k1Pt2YAF8jLkx56yL5spgoEpNatpYcfDj2+fLl1Sf611+zJBQCmoQCiyoqLk2JirD936CANGVI0Cuj3Sy+9xFIw4eZ0Sqmp0qxZRfszZ2VJAwdKTzwh3X67vfkAwBQUQBgjLS104ofTKY0cWXR/IMIjOVmqXdsald2/37pHc9gwaexYu5MBgDkogDDGJZdIkyYVzQj2+6UNG6RFi+zNZRq3W3rgAenZZ6Vf/Urq2FGaMcPuVABgFgogjDJmjNS4sTX6J1llcOxY6cQJW2MZJzlZys21fv7/+lfR/x6nu/NO6dprw5sNAExAAYRRoqOt0aZAwHoeDEpHjkhPPWVvLtOMHGl9/eabM5e/bduknBzps8/ClwsATEEBhHFuvVW64YaiCSGBgHV/4P79tsYyxiOPWLN+N2ywFut+8cXSXzdxovT449KFF0qHDoU1IgBUeRRAGMfhkJ57rmgUULLuB/zTn+zLZIq5c6Xp06U33pDat7cuyT/5pHTqVOjrMjOtS8Tdu1vLxuzaZUtcAKiyKICVwFdffWV3hCqnXTtpxIiiUcD8fOnf/5bef9/eXFXZm29al34XLJCuucY6NnKktRzMP/4R+tqJE609myUKIABUBApgJdC2bVu98sordseoch59VKpZs+i5yyWlpISODKJ8bNliTeh48klpwICi4x6PNGqUNG1a0ULdH3xgLeI9aJDUtKm1XiMFEADKFwWwEpg6dar+8Ic/6I477tC3335rd5wqo04daerUoud+vzXxYP582yJVWYmJ1iXd0aNLnnv0UWuiR8Fo7COPSKtWSfv2WY/lyymAAFDeKICVwB//+Edt27ZNx44dU5s2bfTGG2/YHanKuPdeqVWr0Jmof/qT5PPZl6kqCQSko0fL/vrVq62vXboUHWvZkgIIAOXNEQyyD0Jlkp6errFjx+ryyy+X2+0OOZeVlRW2HD6fTx6PR16vV7GxsWH7eyvCO+9IN95Y9NzplMaNY2mYc5GXJ23ebN1LmZFhff3hB+ngQalhQ7vTASiuKv0ex9lz//JLECm+/PJLvfbaa7rooovUv3//EgUQ56Z3b2s7spUrrckggYC1S8X/+3/W6BPOzOuV1q+3it7atdbs3VOnrBJdcC/lffdZu7AAACIHDaKSmDt3ru6//3716tVLO3fuVN26de2OVKU884xVAIsbN85argRFvvpKWrfOKnyrV0sff2wtpu12W+W5QCBgLbczeLBVpgu23wMARAYKYCVw0003adOmTUpPT9fgwYPtjlMltWhhbQk3fbpVXvLzpWXLpLffDr08bKoDB6Trr5e++MJ6fnrhK/5nyRoBvO026YUXzrzTBwDAPvxqrgT8fr+2bdtG+atgf/6zdNFFRaNVTqd1+fL0RYpN5PFIcXFFz08vfMU5nVLPntYev9ylAACRiQJYCbzzzjuKK/5vX1SI2FhrnbqCaVGBgLU8yfPP25srEsTEWJd8b77551/nclmLPC9ZIkVFhSUaAOAcUACBYoYOtbYoK1iTTrJGBo8dsy1SRMjMtJZmWb78zPfzuVxS27bWjh81aoQ3HwDg7FAAgWKcTmnWrKJdKSTp+HFrazITHTpkleJOnazdPKSiEdLi3G7p0kuld9+1LhcDACIbBRA4zbXXSr/5TdH9a36/NHu2tH27vbnCKS9PeuIJq9T985/WsYJSfPqkDpfLWuZlzRrp4ovDmxMAcG4ogEApnnwy9DJwwYSQqr5sejBo3b932WVSaqr044+ho6EOh9S4sfSXvxQ9r1PHWgOQhZ4BoPKgAAKliI+XHnqo6H43v9/a2WLpUntzVaQdO6QePaQBA6xlX4qXXZfLuq/vySelTz6xRkgl63LvmjVS8+b2ZAYAnBsKIHAG48dLDRqELgszerR1ebQqOXZMSkmREhKsRZ6lol08XC7r+x8yxFoDcPx4KTraGgX8zW+kVaukNm3syw4AODcUQOAMatSwdggpvixMTo61s0VVcOqU9Nxz1ujdnDnW91lwubeg9HbsaM0AfvFFqX79ovdGRVnr/CUmhj83AOD8UQCBn3HnnVLnzkX3AwaD0pQp1uzYyuydd6R27aRRoySfL/Q+P6fTGvlcuNDa55eSBwBVDwUQ+BkOh5SeXnRJVJJOnrQmSFRGu3dL/fpZ29vt3h16zuWyLu9OnGidGziQPXwBoKqiAAK/4Oqrpd/9rmgU0O+XXn7ZujRaWfh80oQJ0uWXSytXWseK3+cnSf/zP9bOJ5MmsZAzAFR1FECgDKZOlapVK3ruclkTJyJ9WZhAQJo3z7rPb/p0aw/f0/fxbdvWmvyxaJE1uQMAUPVRAIEyqF9fmjw5dFmYzExrIkSk+uADa/Tynnusmb7FL2M7nVLt2tbkjo8+krp2tS8nACD8KIBAGY0aJTVtWrQThsMhjRtnbRUXSXJyrCVauna11vYrzu22HuPGSXv3Wpe2T9/ZAwBQ9fGrHyijqChp5syikbRgUDp61NoyLRKcOGHNUG7ZUnr1VevY6du33XSTtGuX9NRTUmysPTkBAPajAAJn4eabpV69ivYJDgSsAvjll/ZlCgat+/datJAefdRaqLr4si6Sde6tt6Q33rAKIgDAbBRA4Cw4HKGjgJJVtsaPtydPVpZ07bXWJd+vvw7N5XJZo3wzZ1qXgm+80Z6MAIDIQwEEztLll1szgIsvC/Pqq9J774Uvw+HD0vDhUocO0qZN1rGCGckF27f94Q/W9m333SddcEH4sgEAIh8FEDgHU6ZItWoVPS9YFub0S6/l7eRJ6emnrWVd5s8P3b6t4D6/bt2krVulWbOkOnUqNg8AoHKiAALn4KKLpLS0oud+v3WZdd68ivn7gkFp2TKpdWtrQecTJ0LLpsMhxcVJS5ZIq1dLV1xRMTkAAFUDBRA4R7//vXU5uOBSsCQ98IDk9Zbv3/Pxx9b9e/36WZNNii8+7XJJ1atbZfSzz6T+/dm+DQDwyyiAwDlyu619gouPxHm91kzc8vDdd9bag+3aSWvXWsdO377t7rulPXus4hkdXT5/LwCg6qMAAuehRw/ptttCl4WZMUP69NNz/8z8fGn2bKlZM+lvf7M+s2D7toLRvauvtiZ/zJ8vXXLJ+XwHAAATUQCB8zR9euhzh0MaO/bcPmv1aikhQfrjH63RxOKji06nVK+etGCBtHGj1LHjuWcGAJiNAgicp+bNrXUAC2bh5udLK1ZYj7L64gtrJLFnz5Kjhy6XtQvJww9bl3vvuov7/AAA54cCCJSDhx6yllwpKGZOp3X/3qlTP/++H36QUlOlVq2k5cutY6ff5zdggDXB49FHpZo1KyY/AMAsFECgHMTEWOvzFczQDQSs0bq//a301wcC0t//Ll16qfTkk9aoYcF9fgUuv1zKyJD+8x+pSZOKzQ8AMAsFECgnd99tTc4oGLkLBqU//1k6ejT0dRs2WPfvDRkiffNN6PZtTqe1xuD//q+UnS1dd13Y4gMADEIBNFRaWpo6duyomJgY1atXT7fddps+PZ+pq5DTae2+UTBxo071Y7rzsn9q1eNzpW926+BBKTlZ6tzZ2qlDKhoxdLut4jhmjLR3r7XGYPH1BQEAKE9uuwPAHhkZGUpJSVHHjh2Vn5+vhx56SDfeeKN27dqlmtxods6uucaapBH98QLN/tUYRblOKiiHlB7UG1nD9Z8VT0lyhmzfFghIvXtLzzxj3QsIAEBFcwSDxfcVgKmOHj2qevXqKSMjQ9eV4bqjz+eTx+OR1+tVbGxsGBJWHoe371TdV6+VQ8ESs3XvXfZXzdlyjyRrwsill0rPPSfddJMNQQEYjd/jZuMSMCRJ3v/uX1a7du1Sz+fl5cnn84U8ULr6B/6hoMNVovwFgg79seMLcrmkWrWsEb9duyh/AIDwowBCgUBAY8aM0bXXXqt27dqV+pq0tDR5PJ7CR3x8fJhTViI/fCWnI1DisNMRVKOYQxo+3Fr3b/Ro6YILbMgHADAeBRBKSUnRjh07tHDhwjO+JjU1VV6vt/CRk5MTxoSVTIMElbZOsz/oUlTTK/X881LdumFPBQBAIQqg4UaOHKlly5ZpzZo1iouLO+ProqOjFRsbG/LAGVw9RIqOlRxF03iDcsjpCCim7/02BgMAwEIBNFQwGNTIkSO1ePFirV69Ws2aNbM7UtVRq640bIXUKLHwkOPCeDkG/lNq1s3GYAAAWFgGxlApKSl65ZVXtHTpUsXExOjrr7+WJHk8HlWvXt3mdFVA/TbS8Hck3yEp/yfpwiZFmwUDAGAzloExlOP0Kar/9dJLL2no0KG/+H6WDwCAyo3f42ZjBNBQ9H4AAMzFNSkAAADDUAABAAAMQwEEAAAwDAUQAADAMBRAAAAAw1AAgTCZPl2Ki5PcbmnfvrN779q11vuaNZNeeKEi0gEATEIBBMLgxx+lBx+UBg+W9u6V4uNLvuajj6QLLpBuuKHkuS5dpD17pL59pfvvl1jFBwBwPiiAQBgcPSrl50u3326VP5er5GtGjZLGj5e2bi15LipKatJEGjBA8vmk3NyKzwwAqLoogEAYBALWV/cZll5/5RXpoouklBTp++/PfIn4ggusr35/eScEAJiEnUCAMPjpJ+trQYEr7vhx6aGHpBUrrHsEPR4pO1tq2rTkawven5dXUUkBACZgBBCoYH6/tHChVL26dRn3dI8/Lt10k3T55dbzNm2sAliaSy+VnE5p0SLuAwQAnDtGAIEKtG6d1KOH5HBI8+dLtWqFnv/iC2nOHGnHjqJj7dqduQA2aCClp0sjR1r3C+7eLTVuXFHpAQBVFSOAQAXq0EHaskUaONAqbCdPhp4fO1Y6dqxoeRi321rm5UwF0OuVUlOlESOkrCypYcMK/xYAAFUQI4BABapeXUpIkCZMkP75T2vEr3Vr69zbb0sffGAt/1J8ckhmpvS731mTQS68MPTzdu2ySuCDD1qlEQCAc0EBBMIgJsb6WjAZ5NQpacwY6U9/kq68MvS1sbHW1+zskmsCFkz+OP1SMgAAZ4NLwEAYFKz7V7AcTHq6del35MiSr42Pl2rUKP0ycMHyL6WtIwgAQFlRAIEwqFfPmgjy4YfW87FjpcOHpZo1S77W4bCWhhkzpuS59eut9xSMKAIAcC4ogEAYREdbO32MGmX9ef/+s3v/unXWbiCPPmrdTwgAwPlwBIOsJoaz5/P55PF45PV6FVtw0xp+UW6utS1cfPyZdwUpzY8/WiOG9etbE0sA4Hzxe9xsTAIBwqhWrXObwFG9euk7gwAAcC64BAwAAGAYCiAAAIBhKIAAAACGoQACAAAYhgIIAABgGAogAACAYSiAAAAAhqEAAgAAGIYCCAAAYBgKIAAAgGEogAAAAIahAAIAABiGAggAAGAYCiAAAIBhKIAAAACGoQACAAAYhgIIAABgGAogAACAYSiAAAAAhqEAAgAAGIYCCAAAYBgKIAAAgGEogAAAAIahAAIAABiGAggAAGAYCiAAAIBhKIAAAACGoQACAAAYhgIIAABgGAogflZ+fr6aN2+uUaNGlXr+qquu0jfffBPmVAAA4HxQAPGz3G63UlNTNW/ePH377beFx6dPny5JevXVV3XxxRfbFQ8AAJwDCiB+0ZAhQ1S7dm2lp6dLkhYsWKCnn35aknTppZfaGQ0AAJwDCiB+UVRUlCZMmKD09HS9+eabGj58uObMmWN3LAAAcI4ogCiT4cOHy+VyqV+/fkpLS9Ott95aeG7ZsmVq1aqVWrZsqRdeeMHGlAAAoCwcwWAwaHcIVA533XWXcnJytG7dOvl8Pnk8Hh07dkzXXHON1qxZI4/Ho8TERK1fv1516tSxOy4A4GcU/B73er2KjY21Ow7CjBFAlNm2bduUlJQUcmzLli1q27atGjVqpFq1aqlv3756++23bUoIAADKggKIMjlx4oQ++eQTJSYmhhw/dOiQGjVqVPi8UaNGOnjwYLjjAQCAs0ABRJls3bpVfr9fV199td1RAADAeaIAokyysrJUq1YtXXbZZSHHL7nkkpARv4MHD6phw4bhjgcAAM4Ck0BwTopPAklKStLatWuZBAIAlQiTQMzmtjsAKje3263p06ere/fuCgQCmjBhAuUPAIAIxwggzgn/5QgAlRu/x83GPYAAAACGoQAa6r333lO/fv3UsGFDORwOLVmyxO5IAAAgTCiAhjp+/Ljat2+vWbNm2R0FAACEGZNADNW3b1/17dvX7hgAAMAGFECUSV5envLy8gqf+3w+G9MAAIDzwSVglElaWpo8Hk/hIz4+XpK0c+dOm5MBAICzRQFEmaSmpsrr9RY+cnJyJEmvv/66zckAAMDZogCiTKKjoxUbGxvykKQ33njD5mQAAOBsUQBxXnbu3BmyFzAAAIh8FEBD5ebmKjs7W9nZ2ZKkvXv3Kjs7W/v37z/rz1q2bFk5pwMAABWJAmiozZs366qrrtJVV10lSRo3bpyuuuoqTZw48aw+x+FwcB8gAACVDHsB45wU7CEpSVFRUfruu+9Uo0YNm1MBAMqKvYDNxgggztvJkyf17rvv2h0DAACUEQUQ583tdnMZGACASoQCiPOWn5+vpUuXKhAI2B0FAACUAQUQ5eLo0aP66KOP7I4BAADKgAKIcuFyuVgUGgCASoICiHLh9/u1ePFiu2MAAIAyoADivLhcrsI/b9u2jV1BAACoBCiAOC8Oh0O33HKL7rrrLjmdTn366ad2RwIAAL+AAojz1rhxYy1YsEDfffedevToYXccAADwCyiAKDesJA8AQOVAAQQAADAMBRAAAMAwFEAAAADDUAABAAAMQwEEAAAwDAUQAADAMBRAAAAAw1AAAQAADEMBBAAAMAwFEAAAwDAUQAAAAMNQAAEAAAxDAQQAADAMBRAAAMAwFEAAAADDUAABAAAMQwEEAAAwDAUQAADAMBRAAAAAw1AAAQAADEMBBAAAMAwFEAAAwDAUQAAAAMNQAAEAAAxDAQQAADAMBRAAAMAwFEAAAADDUAABAAAMQwEEAAAwDAUQAADAMBRAAAAAw1AAAQAADEMBBAAAMAwFEAAAwDAUQAAAAMNQAAEAAAxDAQQAADAMBRAAAMAwFEAAAADDUAABAAAMQwEEAAAwDAUQAADAMBRAAAAAw1AAAQAADEMBBAAAMAwFEAAAwDAUQAAAAMNQAAEAAAxDAQQAADAMBRAAAMAwFEAgzAKBgFq3bq2HH3445Pjy5csVFRWl1157zaZkAABTUACBMHM6nUpNTdWsWbPk9XolSVlZWRo4cKCeeOIJ3X777TYnBABUdRRAoIxWr16tAwcOlMtnJScnq3bt2kpPT9f+/ft1yy23aNiwYRo7dmy5fD4AAD+HAmi4WbNmqWnTpqpWrZqSkpK0adOms3p/tRZJCshRQekih8/nU+/evRUfH6+EhARNmjRJmzdvViAQOKfPc7vdeuCBB/Tss8/qV7/6lTp27KgZM2aUc2oAAEpHATTYokWLNG7cOE2aNElZWVlq3769+vTpoyNHjpT5My66abQ+qNFFvp9OVWBS+8XGxmrgwIGSpO3bt2vq1Knq2LGjGjRooOHDh+v111/XiRMnzuozk5OTlZubK4fDoX/9619yOkP/77hs2TK1atVKLVu21AsvvFBu3wsAAI5gMBi0OwTskZSUpI4dOyo9PV2SNTkhPj5e9913nx588MGffa/P55PH41H8mH/LeUE1Nc3/Um3zPg5HbNt8+eWXWr58eYnjbrdb+fn5ioqKUs+ePdW/f3/dcsstatSo0c9+3tChQ7Vo0SJdeOGF2rt3r6pVq1Z4Lj8/X23atNGaNWvk8XiUmJio9evXq06dOuX+fQEwU8Hvca/Xq9jYWLvjIMzcdgeAPU6ePKktW7YoNTW18JjT6VSvXr304Ycflnh9Xl6e8vLyCp8XTF4I5FmjXrt/qqUPXvjfCk5tP5fLJb/fH3IsPz9fkvUzXblypVasWCFJatOmjfr166f+/furbdu2Ie957LHHtGzZMq1atUr9+/fXrFmz9Pvf/77w/MaNG9WqVSvFxMQoEAioZ8+eWrp0qX79619X8HcIwBQ+n0+SxDiQmRgBNNRXX32lRo0aaf369ercuXPh8QkTJigjI0MbN24Mef3kyZM1ZcqUcMcEAFSwPXv2qHnz5nbHQJgxAogySU1N1bhx4wqff//992rSpIn2798vj8djY7LI5vP5FB8fr5ycHMXGxurtt99WcnKy5s2bp379+kmyRlOvuOIKTZ06Vb/97W8lSUuWLNH777+vp59+WpI0Y8YMORwOjRo1yrbvpSKd/nNC6fg5lQ0/p7Lxer1q3LixateubXcU2IACaKiLL75YLpdLhw8fDjl++PBhNWjQoMTro6OjFR0dXeK4x+PhF2wZxMbG6vPPP9fQoUP15JNPKjk5OeTcqFGjNGPGDN17771yuVxq0aKFFi9eXPizPXbsmDp16lTlf9axsbFV/nssD/ycyoafU9mcPgENZuB/dUNFRUUpMTFR7777buGxQCCgd999N+SSMMpPYmKicnNzNXr06BLnHn30UX322WdyuVySpE6dOmnHjh06ePCgcnNztWLFCvXp0yfckQEAVRQjgAYbN26chgwZog4dOqhTp0569tlndfz4cQ0bNszuaMZzu92aPn26unfvrkAgoAkTJjADGABQbiiABhs4cKCOHj2qiRMn6uuvv9aVV16plStXqn79+r/43ujoaE2aNKnUy8Iocj4/p1tvvVW33nprBaSKPPzzVDb8nMqGn1PZ8HMyG7OAAQAADMM9gAAAAIahAAIAABiGAoizNn36dMXFxcntdmvfvn1lft/atWvldrvVrFkz9rYFAMBGFECclR9//FEPPvigBg8erL179yo+Pr7w3KxZs9S0aVNVq1ZNSUlJ2rRpU8h7u3Tpoj179qhv3766//772X4IAACbUABxVo4ePar8/Hzl5+erW7duqlmzppKSkjR16lSNGzdOkyZNUlZWltq3b68+ffroyJEjhe+NiopSkyZNNGDAAPl8PuXm5tr4nVSs9957T/369VPDhg3lcDi0ZMkSuyNFpLS0NHXs2FExMTGqV6+ebrvtNn366ad2x4o4s2fPVkJCQuHCxp07dy7ccxqlmzZtmhwOh8aMGWN3lIgyefJkORyOkEfr1q3tjgUbUABxVgKBgCTpmWeeCSl7kyZN0t13361hw4apTZs2ev7551WjRg3NmzevxGdccMEFkiS/3x/W7OF0/PhxtW/fXrNmzbI7SkTLyMhQSkqKNmzYoHfeeUenTp3SjTfeqOPHj9sdLaLExcVp2rRp2rJlizZv3qwePXqof//+2rlzp93RIlJmZqbmzJmjhIQEu6NEpLZt2+rQoUOFj/fff9/uSLAB6wDirPz000+SpF//+teFC0bPnDlTc+fO1cmTJwtf53Q61atXL3344YclPqOgAObl5YUhsT369u2rvn372h0j4q1cuTLk+fz581WvXj1t2bJF1113nU2pIk/BvtEFpk6dqtmzZ2vDhg1q27atTakiU25urpKTkzV37lw99thjdseJSG63u9QtP2EWRgBRZn6/XwsWLJCkkAWKv/32W0kqMSGkfv36+vrrr0t8zqWXXiqn06lFixZxHyBCeL1eSWJz+p/h9/u1cOFCHT9+nG0bS5GSkqKbb75ZvXr1sjtKxPr888/VsGFDNW/eXMnJydq/f7/dkWADRgBRJuvWrVOPHj3kcDgkSU2bNi3xmmPHjpXpsxo0aKD09HSNHDlS48eP1+7du9W4cePyjItKKBAIaMyYMbr22mvVrl07u+NEnO3bt6tz58766aefVKtWLS1evFht2rSxO1ZEWbhwobKyspSZmWl3lIiVlJSk+fPnq1WrVjp06JCmTJmibt26aceOHYqJibE7HsKIEUCUSYcOHbRly5bCS1GnTp0qPHfxxRfL4XAoPz8/5D2HDx8u9TKD1+tVamqqRowYoaysLDVs2LBiw6NSSElJ0Y4dO7Rw4UK7o0SkVq1aKTs7Wxs3btSIESM0ZMgQ7dq1y+5YESMnJ0ejR4/WggULVK1aNbvjRKy+ffvqjjvuUEJCgvr06aM333xT33//vf7973/bHQ1hRgFEmVSvXl0JCQl6+OGHJUnbtm0rPBcVFaU6deqEFMBAIKB333231EtUu3btktfr1YMPPqh27drJ7WYg2nQjR47UsmXLtGbNGsXFxdkdJyJFRUWpRYsWSkxMVFpamtq3b68ZM2bYHStibNmyRUeOHNHVV18tt9stt9utjIwMzZw5U263u0pPOjsfF154oS677DLt3r3b7igIMwogzkrBvVnFZ40FAgH5/X7l5OTo5Zdf1scff6wRI0bo+PHjhRNFiiuY/FGrVq3whEbECgaDGjlypBYvXqzVq1erWbNmdkeqNAKBQJWeSHW2evbsqe3btys7O7vw0aFDByUnJys7O1sul8vuiBEpNzdXe/bs0SWXXGJ3FIQZQy84KwW/RF977TW9/PLL6tSpk5599lkFg0FNmTJFEydO1Ndff60rr7xSK1euVP369Ut8RsF/iVflX8i5ubkh/0W9d+9eZWdnq3bt2tzvWExKSopeeeUVLV26VDExMYWThjwej6pXr25zusiRmpqqvn37qnHjxvrhhx/0yiuvaO3atXrrrbfsjhYxYmJiStw7WrNmTdWpU4d7SosZP368+vXrpyZNmuirr77SpEmT5HK5NGjQILujIcwogDgr9erVk8Ph0G233Vai7CUlJemhhx76xc9Yv369atasWaVvON68ebO6d+9e+HzcuHGSpCFDhmj+/Pk2pYo8s2fPliTdcMMNIcdfeuklDR06NPyBItSRI0c0ePBgHTp0SB6PRwkJCXrrrbfUu3dvu6Ohkjlw4IAGDRqkY8eOqW7duuratas2bNigunXr2h0NYeYIsg4HztKYMWP03HPPye126/PPPy/ziNa6devUs2dPBYNBPfLII5o4cWIFJwUAAKWhAOKc5Obm6ujRo4qPjy/zJI4ff/xRhw8fVv369bm8BwCAjSiAAAAAhmEWMAAAgGEogAAAAIahAAIAABiGAggAAGAYCiAAAIBhKIAAAACGoQACwH/5/X516dJFt99+e8hxr9er+Ph4PfzwwzYlA4DyxTqAAFDMZ599piuvvFJz585VcnKyJGnw4MHaunWrMjMzFRUVZXNCADh/FEAAOM3MmTM1efJk7dy5U5s2bdIdd9yhzMxMtW/f3u5oAFAuKIAAcJpgMKgePXrI5XJp+/btuu+++/TnP//Z7lgAUG4ogABQik8++USXX365rrjiCmVlZZV5z2sAqAyYBAIApZg3b55q1KihvXv36sCBA3bHAYByxQggAJxm/fr1uv766/X222/rsccekyStWrVKDofD5mQAUD4YAQSAYk6cOKGhQ4dqxIgR6t69u1588UVt2rRJzz//vN3RAKDcMAIIAMWMHj1ab775prZu3aoaNWpIkubMmaPx48dr+/btatq0qb0BAaAcUAAB4L8yMjLUs2dPrV27Vl27dg0516dPH+Xn53MpGECVQAEEAAAwDPcAAgAAGIYCCAAAYBgKIAAAgGEogAAAAIahAAIAABiGAggAAGAYCiAAAIBhKIAAAACGoQACAAAYhgIIAABgGAogAACAYSiAAAAAhvn/z4ETDJ1UnlAAAAAASUVORK5CYII=",
            "_dom_classes": [],
            "_figure_label": "Figure 2",
            "_image_mode": "full",
            "_message": "",
            "_model_module": "jupyter-matplotlib",
            "_model_module_version": "^0.11",
            "_model_name": "MPLCanvasModel",
            "_rubberband_height": 0,
            "_rubberband_width": 0,
            "_rubberband_x": 0,
            "_rubberband_y": 0,
            "_size": [
              640,
              480
            ],
            "_view_count": null,
            "_view_module": "jupyter-matplotlib",
            "_view_module_version": "^0.11",
            "_view_name": "MPLCanvasView",
            "capture_scroll": false,
            "footer_visible": true,
            "header_visible": true,
            "layout": "IPY_MODEL_f9aefc9660b2476eb20516bfbf387c1c",
            "pan_zoom_throttle": 33,
            "resizable": true,
            "toolbar": "IPY_MODEL_216f9dfd3d98488dbbe1f40d03c71bd6",
            "toolbar_position": "left",
            "toolbar_visible": "fade-in-fade-out"
          }
        },
        "f9aefc9660b2476eb20516bfbf387c1c": {
          "model_module": "@jupyter-widgets/base",
          "model_name": "LayoutModel",
          "model_module_version": "1.2.0",
          "state": {
            "_model_module": "@jupyter-widgets/base",
            "_model_module_version": "1.2.0",
            "_model_name": "LayoutModel",
            "_view_count": null,
            "_view_module": "@jupyter-widgets/base",
            "_view_module_version": "1.2.0",
            "_view_name": "LayoutView",
            "align_content": null,
            "align_items": null,
            "align_self": null,
            "border": null,
            "bottom": null,
            "display": null,
            "flex": null,
            "flex_flow": null,
            "grid_area": null,
            "grid_auto_columns": null,
            "grid_auto_flow": null,
            "grid_auto_rows": null,
            "grid_column": null,
            "grid_gap": null,
            "grid_row": null,
            "grid_template_areas": null,
            "grid_template_columns": null,
            "grid_template_rows": null,
            "height": null,
            "justify_content": null,
            "justify_items": null,
            "left": null,
            "margin": null,
            "max_height": null,
            "max_width": null,
            "min_height": null,
            "min_width": null,
            "object_fit": null,
            "object_position": null,
            "order": null,
            "overflow": null,
            "overflow_x": null,
            "overflow_y": null,
            "padding": null,
            "right": null,
            "top": null,
            "visibility": null,
            "width": null
          }
        },
        "216f9dfd3d98488dbbe1f40d03c71bd6": {
          "model_module": "jupyter-matplotlib",
          "model_name": "ToolbarModel",
          "model_module_version": "^0.11",
          "state": {
            "_current_action": "",
            "_dom_classes": [],
            "_model_module": "jupyter-matplotlib",
            "_model_module_version": "^0.11",
            "_model_name": "ToolbarModel",
            "_view_count": null,
            "_view_module": "jupyter-matplotlib",
            "_view_module_version": "^0.11",
            "_view_name": "ToolbarView",
            "button_style": "",
            "collapsed": true,
            "layout": "IPY_MODEL_5cea63f1a7fc4755973cfeb4dc090511",
            "orientation": "vertical",
            "toolitems": [
              [
                "Home",
                "Reset original view",
                "home",
                "home"
              ],
              [
                "Back",
                "Back to previous view",
                "arrow-left",
                "back"
              ],
              [
                "Forward",
                "Forward to next view",
                "arrow-right",
                "forward"
              ],
              [
                "Pan",
                "Left button pans, Right button zooms\nx/y fixes axis, CTRL fixes aspect",
                "arrows",
                "pan"
              ],
              [
                "Zoom",
                "Zoom to rectangle\nx/y fixes axis",
                "square-o",
                "zoom"
              ],
              [
                "Download",
                "Download plot",
                "floppy-o",
                "save_figure"
              ]
            ]
          }
        },
        "5cea63f1a7fc4755973cfeb4dc090511": {
          "model_module": "@jupyter-widgets/base",
          "model_name": "LayoutModel",
          "model_module_version": "1.2.0",
          "state": {
            "_model_module": "@jupyter-widgets/base",
            "_model_module_version": "1.2.0",
            "_model_name": "LayoutModel",
            "_view_count": null,
            "_view_module": "@jupyter-widgets/base",
            "_view_module_version": "1.2.0",
            "_view_name": "LayoutView",
            "align_content": null,
            "align_items": null,
            "align_self": null,
            "border": null,
            "bottom": null,
            "display": null,
            "flex": null,
            "flex_flow": null,
            "grid_area": null,
            "grid_auto_columns": null,
            "grid_auto_flow": null,
            "grid_auto_rows": null,
            "grid_column": null,
            "grid_gap": null,
            "grid_row": null,
            "grid_template_areas": null,
            "grid_template_columns": null,
            "grid_template_rows": null,
            "height": null,
            "justify_content": null,
            "justify_items": null,
            "left": null,
            "margin": null,
            "max_height": null,
            "max_width": null,
            "min_height": null,
            "min_width": null,
            "object_fit": null,
            "object_position": null,
            "order": null,
            "overflow": null,
            "overflow_x": null,
            "overflow_y": null,
            "padding": null,
            "right": null,
            "top": null,
            "visibility": null,
            "width": null
          }
        }
      }
    }
  },
  "cells": [
    {
      "cell_type": "markdown",
      "metadata": {
        "id": "view-in-github",
        "colab_type": "text"
      },
      "source": [
        "<a href=\"https://colab.research.google.com/github/arainbilal/colab_notebooks/blob/main/Ch2_Position%26Orientation.ipynb\" target=\"_parent\"><img src=\"https://colab.research.google.com/assets/colab-badge.svg\" alt=\"Open In Colab\"/></a>"
      ]
    },
    {
      "cell_type": "markdown",
      "source": [
        "Chapter 2: Representing position & orientation\n",
        "Copyright (c) 2021- Peter Corke"
      ],
      "metadata": {
        "id": "-yuKVknjxM7f"
      }
    },
    {
      "cell_type": "code",
      "execution_count": null,
      "metadata": {
        "colab": {
          "base_uri": "https://localhost:8080/"
        },
        "id": "FDGp_L1mw_5R",
        "outputId": "c27eadf8-5750-42d2-a903-5a6e32db3f65"
      },
      "outputs": [
        {
          "output_type": "stream",
          "name": "stdout",
          "text": [
            "Running on CoLab\n",
            "Collecting ipympl\n",
            "  Downloading ipympl-0.9.3-py2.py3-none-any.whl (511 kB)\n",
            "\u001b[2K     \u001b[90m━━━━━━━━━━━━━━━━━━━━━━━━━━━━━━━━━━━━━━━\u001b[0m \u001b[32m511.6/511.6 kB\u001b[0m \u001b[31m6.7 MB/s\u001b[0m eta \u001b[36m0:00:00\u001b[0m\n",
            "\u001b[?25hRequirement already satisfied: ipython<9 in /usr/local/lib/python3.10/dist-packages (from ipympl) (7.34.0)\n",
            "Requirement already satisfied: numpy in /usr/local/lib/python3.10/dist-packages (from ipympl) (1.23.5)\n",
            "Requirement already satisfied: ipython-genutils in /usr/local/lib/python3.10/dist-packages (from ipympl) (0.2.0)\n",
            "Requirement already satisfied: pillow in /usr/local/lib/python3.10/dist-packages (from ipympl) (9.4.0)\n",
            "Requirement already satisfied: traitlets<6 in /usr/local/lib/python3.10/dist-packages (from ipympl) (5.7.1)\n",
            "Requirement already satisfied: ipywidgets<9,>=7.6.0 in /usr/local/lib/python3.10/dist-packages (from ipympl) (7.7.1)\n",
            "Requirement already satisfied: matplotlib<4,>=3.4.0 in /usr/local/lib/python3.10/dist-packages (from ipympl) (3.7.1)\n",
            "Requirement already satisfied: setuptools>=18.5 in /usr/local/lib/python3.10/dist-packages (from ipython<9->ipympl) (67.7.2)\n",
            "Collecting jedi>=0.16 (from ipython<9->ipympl)\n",
            "  Downloading jedi-0.19.0-py2.py3-none-any.whl (1.6 MB)\n",
            "\u001b[2K     \u001b[90m━━━━━━━━━━━━━━━━━━━━━━━━━━━━━━━━━━━━━━━━\u001b[0m \u001b[32m1.6/1.6 MB\u001b[0m \u001b[31m42.9 MB/s\u001b[0m eta \u001b[36m0:00:00\u001b[0m\n",
            "\u001b[?25hRequirement already satisfied: decorator in /usr/local/lib/python3.10/dist-packages (from ipython<9->ipympl) (4.4.2)\n",
            "Requirement already satisfied: pickleshare in /usr/local/lib/python3.10/dist-packages (from ipython<9->ipympl) (0.7.5)\n",
            "Requirement already satisfied: prompt-toolkit!=3.0.0,!=3.0.1,<3.1.0,>=2.0.0 in /usr/local/lib/python3.10/dist-packages (from ipython<9->ipympl) (3.0.39)\n",
            "Requirement already satisfied: pygments in /usr/local/lib/python3.10/dist-packages (from ipython<9->ipympl) (2.16.1)\n",
            "Requirement already satisfied: backcall in /usr/local/lib/python3.10/dist-packages (from ipython<9->ipympl) (0.2.0)\n",
            "Requirement already satisfied: matplotlib-inline in /usr/local/lib/python3.10/dist-packages (from ipython<9->ipympl) (0.1.6)\n",
            "Requirement already satisfied: pexpect>4.3 in /usr/local/lib/python3.10/dist-packages (from ipython<9->ipympl) (4.8.0)\n",
            "Requirement already satisfied: ipykernel>=4.5.1 in /usr/local/lib/python3.10/dist-packages (from ipywidgets<9,>=7.6.0->ipympl) (5.5.6)\n",
            "Requirement already satisfied: widgetsnbextension~=3.6.0 in /usr/local/lib/python3.10/dist-packages (from ipywidgets<9,>=7.6.0->ipympl) (3.6.5)\n",
            "Requirement already satisfied: jupyterlab-widgets>=1.0.0 in /usr/local/lib/python3.10/dist-packages (from ipywidgets<9,>=7.6.0->ipympl) (3.0.8)\n",
            "Requirement already satisfied: contourpy>=1.0.1 in /usr/local/lib/python3.10/dist-packages (from matplotlib<4,>=3.4.0->ipympl) (1.1.0)\n",
            "Requirement already satisfied: cycler>=0.10 in /usr/local/lib/python3.10/dist-packages (from matplotlib<4,>=3.4.0->ipympl) (0.11.0)\n",
            "Requirement already satisfied: fonttools>=4.22.0 in /usr/local/lib/python3.10/dist-packages (from matplotlib<4,>=3.4.0->ipympl) (4.42.1)\n",
            "Requirement already satisfied: kiwisolver>=1.0.1 in /usr/local/lib/python3.10/dist-packages (from matplotlib<4,>=3.4.0->ipympl) (1.4.4)\n",
            "Requirement already satisfied: packaging>=20.0 in /usr/local/lib/python3.10/dist-packages (from matplotlib<4,>=3.4.0->ipympl) (23.1)\n",
            "Requirement already satisfied: pyparsing>=2.3.1 in /usr/local/lib/python3.10/dist-packages (from matplotlib<4,>=3.4.0->ipympl) (3.1.1)\n",
            "Requirement already satisfied: python-dateutil>=2.7 in /usr/local/lib/python3.10/dist-packages (from matplotlib<4,>=3.4.0->ipympl) (2.8.2)\n",
            "Requirement already satisfied: jupyter-client in /usr/local/lib/python3.10/dist-packages (from ipykernel>=4.5.1->ipywidgets<9,>=7.6.0->ipympl) (6.1.12)\n",
            "Requirement already satisfied: tornado>=4.2 in /usr/local/lib/python3.10/dist-packages (from ipykernel>=4.5.1->ipywidgets<9,>=7.6.0->ipympl) (6.3.2)\n",
            "Requirement already satisfied: parso<0.9.0,>=0.8.3 in /usr/local/lib/python3.10/dist-packages (from jedi>=0.16->ipython<9->ipympl) (0.8.3)\n",
            "Requirement already satisfied: ptyprocess>=0.5 in /usr/local/lib/python3.10/dist-packages (from pexpect>4.3->ipython<9->ipympl) (0.7.0)\n",
            "Requirement already satisfied: wcwidth in /usr/local/lib/python3.10/dist-packages (from prompt-toolkit!=3.0.0,!=3.0.1,<3.1.0,>=2.0.0->ipython<9->ipympl) (0.2.6)\n",
            "Requirement already satisfied: six>=1.5 in /usr/local/lib/python3.10/dist-packages (from python-dateutil>=2.7->matplotlib<4,>=3.4.0->ipympl) (1.16.0)\n",
            "Requirement already satisfied: notebook>=4.4.1 in /usr/local/lib/python3.10/dist-packages (from widgetsnbextension~=3.6.0->ipywidgets<9,>=7.6.0->ipympl) (6.5.5)\n",
            "Requirement already satisfied: jinja2 in /usr/local/lib/python3.10/dist-packages (from notebook>=4.4.1->widgetsnbextension~=3.6.0->ipywidgets<9,>=7.6.0->ipympl) (3.1.2)\n",
            "Requirement already satisfied: pyzmq<25,>=17 in /usr/local/lib/python3.10/dist-packages (from notebook>=4.4.1->widgetsnbextension~=3.6.0->ipywidgets<9,>=7.6.0->ipympl) (23.2.1)\n",
            "Requirement already satisfied: argon2-cffi in /usr/local/lib/python3.10/dist-packages (from notebook>=4.4.1->widgetsnbextension~=3.6.0->ipywidgets<9,>=7.6.0->ipympl) (23.1.0)\n",
            "Requirement already satisfied: jupyter-core>=4.6.1 in /usr/local/lib/python3.10/dist-packages (from notebook>=4.4.1->widgetsnbextension~=3.6.0->ipywidgets<9,>=7.6.0->ipympl) (5.3.1)\n",
            "Requirement already satisfied: nbformat in /usr/local/lib/python3.10/dist-packages (from notebook>=4.4.1->widgetsnbextension~=3.6.0->ipywidgets<9,>=7.6.0->ipympl) (5.9.2)\n",
            "Requirement already satisfied: nbconvert>=5 in /usr/local/lib/python3.10/dist-packages (from notebook>=4.4.1->widgetsnbextension~=3.6.0->ipywidgets<9,>=7.6.0->ipympl) (6.5.4)\n",
            "Requirement already satisfied: nest-asyncio>=1.5 in /usr/local/lib/python3.10/dist-packages (from notebook>=4.4.1->widgetsnbextension~=3.6.0->ipywidgets<9,>=7.6.0->ipympl) (1.5.7)\n",
            "Requirement already satisfied: Send2Trash>=1.8.0 in /usr/local/lib/python3.10/dist-packages (from notebook>=4.4.1->widgetsnbextension~=3.6.0->ipywidgets<9,>=7.6.0->ipympl) (1.8.2)\n",
            "Requirement already satisfied: terminado>=0.8.3 in /usr/local/lib/python3.10/dist-packages (from notebook>=4.4.1->widgetsnbextension~=3.6.0->ipywidgets<9,>=7.6.0->ipympl) (0.17.1)\n",
            "Requirement already satisfied: prometheus-client in /usr/local/lib/python3.10/dist-packages (from notebook>=4.4.1->widgetsnbextension~=3.6.0->ipywidgets<9,>=7.6.0->ipympl) (0.17.1)\n",
            "Requirement already satisfied: nbclassic>=0.4.7 in /usr/local/lib/python3.10/dist-packages (from notebook>=4.4.1->widgetsnbextension~=3.6.0->ipywidgets<9,>=7.6.0->ipympl) (1.0.0)\n",
            "Requirement already satisfied: platformdirs>=2.5 in /usr/local/lib/python3.10/dist-packages (from jupyter-core>=4.6.1->notebook>=4.4.1->widgetsnbextension~=3.6.0->ipywidgets<9,>=7.6.0->ipympl) (3.10.0)\n",
            "Requirement already satisfied: jupyter-server>=1.8 in /usr/local/lib/python3.10/dist-packages (from nbclassic>=0.4.7->notebook>=4.4.1->widgetsnbextension~=3.6.0->ipywidgets<9,>=7.6.0->ipympl) (1.24.0)\n",
            "Requirement already satisfied: notebook-shim>=0.2.3 in /usr/local/lib/python3.10/dist-packages (from nbclassic>=0.4.7->notebook>=4.4.1->widgetsnbextension~=3.6.0->ipywidgets<9,>=7.6.0->ipympl) (0.2.3)\n",
            "Requirement already satisfied: lxml in /usr/local/lib/python3.10/dist-packages (from nbconvert>=5->notebook>=4.4.1->widgetsnbextension~=3.6.0->ipywidgets<9,>=7.6.0->ipympl) (4.9.3)\n",
            "Requirement already satisfied: beautifulsoup4 in /usr/local/lib/python3.10/dist-packages (from nbconvert>=5->notebook>=4.4.1->widgetsnbextension~=3.6.0->ipywidgets<9,>=7.6.0->ipympl) (4.11.2)\n",
            "Requirement already satisfied: bleach in /usr/local/lib/python3.10/dist-packages (from nbconvert>=5->notebook>=4.4.1->widgetsnbextension~=3.6.0->ipywidgets<9,>=7.6.0->ipympl) (6.0.0)\n",
            "Requirement already satisfied: defusedxml in /usr/local/lib/python3.10/dist-packages (from nbconvert>=5->notebook>=4.4.1->widgetsnbextension~=3.6.0->ipywidgets<9,>=7.6.0->ipympl) (0.7.1)\n",
            "Requirement already satisfied: entrypoints>=0.2.2 in /usr/local/lib/python3.10/dist-packages (from nbconvert>=5->notebook>=4.4.1->widgetsnbextension~=3.6.0->ipywidgets<9,>=7.6.0->ipympl) (0.4)\n",
            "Requirement already satisfied: jupyterlab-pygments in /usr/local/lib/python3.10/dist-packages (from nbconvert>=5->notebook>=4.4.1->widgetsnbextension~=3.6.0->ipywidgets<9,>=7.6.0->ipympl) (0.2.2)\n",
            "Requirement already satisfied: MarkupSafe>=2.0 in /usr/local/lib/python3.10/dist-packages (from nbconvert>=5->notebook>=4.4.1->widgetsnbextension~=3.6.0->ipywidgets<9,>=7.6.0->ipympl) (2.1.3)\n",
            "Requirement already satisfied: mistune<2,>=0.8.1 in /usr/local/lib/python3.10/dist-packages (from nbconvert>=5->notebook>=4.4.1->widgetsnbextension~=3.6.0->ipywidgets<9,>=7.6.0->ipympl) (0.8.4)\n",
            "Requirement already satisfied: nbclient>=0.5.0 in /usr/local/lib/python3.10/dist-packages (from nbconvert>=5->notebook>=4.4.1->widgetsnbextension~=3.6.0->ipywidgets<9,>=7.6.0->ipympl) (0.8.0)\n",
            "Requirement already satisfied: pandocfilters>=1.4.1 in /usr/local/lib/python3.10/dist-packages (from nbconvert>=5->notebook>=4.4.1->widgetsnbextension~=3.6.0->ipywidgets<9,>=7.6.0->ipympl) (1.5.0)\n",
            "Requirement already satisfied: tinycss2 in /usr/local/lib/python3.10/dist-packages (from nbconvert>=5->notebook>=4.4.1->widgetsnbextension~=3.6.0->ipywidgets<9,>=7.6.0->ipympl) (1.2.1)\n",
            "Requirement already satisfied: fastjsonschema in /usr/local/lib/python3.10/dist-packages (from nbformat->notebook>=4.4.1->widgetsnbextension~=3.6.0->ipywidgets<9,>=7.6.0->ipympl) (2.18.0)\n",
            "Requirement already satisfied: jsonschema>=2.6 in /usr/local/lib/python3.10/dist-packages (from nbformat->notebook>=4.4.1->widgetsnbextension~=3.6.0->ipywidgets<9,>=7.6.0->ipympl) (4.19.0)\n",
            "Requirement already satisfied: argon2-cffi-bindings in /usr/local/lib/python3.10/dist-packages (from argon2-cffi->notebook>=4.4.1->widgetsnbextension~=3.6.0->ipywidgets<9,>=7.6.0->ipympl) (21.2.0)\n",
            "Requirement already satisfied: attrs>=22.2.0 in /usr/local/lib/python3.10/dist-packages (from jsonschema>=2.6->nbformat->notebook>=4.4.1->widgetsnbextension~=3.6.0->ipywidgets<9,>=7.6.0->ipympl) (23.1.0)\n",
            "Requirement already satisfied: jsonschema-specifications>=2023.03.6 in /usr/local/lib/python3.10/dist-packages (from jsonschema>=2.6->nbformat->notebook>=4.4.1->widgetsnbextension~=3.6.0->ipywidgets<9,>=7.6.0->ipympl) (2023.7.1)\n",
            "Requirement already satisfied: referencing>=0.28.4 in /usr/local/lib/python3.10/dist-packages (from jsonschema>=2.6->nbformat->notebook>=4.4.1->widgetsnbextension~=3.6.0->ipywidgets<9,>=7.6.0->ipympl) (0.30.2)\n",
            "Requirement already satisfied: rpds-py>=0.7.1 in /usr/local/lib/python3.10/dist-packages (from jsonschema>=2.6->nbformat->notebook>=4.4.1->widgetsnbextension~=3.6.0->ipywidgets<9,>=7.6.0->ipympl) (0.9.2)\n",
            "Requirement already satisfied: anyio<4,>=3.1.0 in /usr/local/lib/python3.10/dist-packages (from jupyter-server>=1.8->nbclassic>=0.4.7->notebook>=4.4.1->widgetsnbextension~=3.6.0->ipywidgets<9,>=7.6.0->ipympl) (3.7.1)\n",
            "Requirement already satisfied: websocket-client in /usr/local/lib/python3.10/dist-packages (from jupyter-server>=1.8->nbclassic>=0.4.7->notebook>=4.4.1->widgetsnbextension~=3.6.0->ipywidgets<9,>=7.6.0->ipympl) (1.6.2)\n",
            "Requirement already satisfied: cffi>=1.0.1 in /usr/local/lib/python3.10/dist-packages (from argon2-cffi-bindings->argon2-cffi->notebook>=4.4.1->widgetsnbextension~=3.6.0->ipywidgets<9,>=7.6.0->ipympl) (1.15.1)\n",
            "Requirement already satisfied: soupsieve>1.2 in /usr/local/lib/python3.10/dist-packages (from beautifulsoup4->nbconvert>=5->notebook>=4.4.1->widgetsnbextension~=3.6.0->ipywidgets<9,>=7.6.0->ipympl) (2.4.1)\n",
            "Requirement already satisfied: webencodings in /usr/local/lib/python3.10/dist-packages (from bleach->nbconvert>=5->notebook>=4.4.1->widgetsnbextension~=3.6.0->ipywidgets<9,>=7.6.0->ipympl) (0.5.1)\n",
            "Requirement already satisfied: idna>=2.8 in /usr/local/lib/python3.10/dist-packages (from anyio<4,>=3.1.0->jupyter-server>=1.8->nbclassic>=0.4.7->notebook>=4.4.1->widgetsnbextension~=3.6.0->ipywidgets<9,>=7.6.0->ipympl) (3.4)\n",
            "Requirement already satisfied: sniffio>=1.1 in /usr/local/lib/python3.10/dist-packages (from anyio<4,>=3.1.0->jupyter-server>=1.8->nbclassic>=0.4.7->notebook>=4.4.1->widgetsnbextension~=3.6.0->ipywidgets<9,>=7.6.0->ipympl) (1.3.0)\n",
            "Requirement already satisfied: exceptiongroup in /usr/local/lib/python3.10/dist-packages (from anyio<4,>=3.1.0->jupyter-server>=1.8->nbclassic>=0.4.7->notebook>=4.4.1->widgetsnbextension~=3.6.0->ipywidgets<9,>=7.6.0->ipympl) (1.1.3)\n",
            "Requirement already satisfied: pycparser in /usr/local/lib/python3.10/dist-packages (from cffi>=1.0.1->argon2-cffi-bindings->argon2-cffi->notebook>=4.4.1->widgetsnbextension~=3.6.0->ipywidgets<9,>=7.6.0->ipympl) (2.21)\n",
            "Installing collected packages: jedi, ipympl\n",
            "Successfully installed ipympl-0.9.3 jedi-0.19.0\n",
            "Collecting spatialmath-python\n",
            "  Downloading spatialmath_python-1.1.8-py3-none-any.whl (186 kB)\n",
            "\u001b[2K     \u001b[90m━━━━━━━━━━━━━━━━━━━━━━━━━━━━━━━━━━━━━━━\u001b[0m \u001b[32m187.0/187.0 kB\u001b[0m \u001b[31m3.4 MB/s\u001b[0m eta \u001b[36m0:00:00\u001b[0m\n",
            "\u001b[?25hRequirement already satisfied: numpy>=1.17.4 in /usr/local/lib/python3.10/dist-packages (from spatialmath-python) (1.23.5)\n",
            "Requirement already satisfied: scipy in /usr/local/lib/python3.10/dist-packages (from spatialmath-python) (1.10.1)\n",
            "Requirement already satisfied: matplotlib in /usr/local/lib/python3.10/dist-packages (from spatialmath-python) (3.7.1)\n",
            "Collecting ansitable (from spatialmath-python)\n",
            "  Downloading ansitable-0.9.7-py3-none-any.whl (14 kB)\n",
            "Requirement already satisfied: typing-extensions in /usr/local/lib/python3.10/dist-packages (from spatialmath-python) (4.7.1)\n",
            "Collecting colored (from ansitable->spatialmath-python)\n",
            "  Downloading colored-2.2.3-py3-none-any.whl (16 kB)\n",
            "Requirement already satisfied: contourpy>=1.0.1 in /usr/local/lib/python3.10/dist-packages (from matplotlib->spatialmath-python) (1.1.0)\n",
            "Requirement already satisfied: cycler>=0.10 in /usr/local/lib/python3.10/dist-packages (from matplotlib->spatialmath-python) (0.11.0)\n",
            "Requirement already satisfied: fonttools>=4.22.0 in /usr/local/lib/python3.10/dist-packages (from matplotlib->spatialmath-python) (4.42.1)\n",
            "Requirement already satisfied: kiwisolver>=1.0.1 in /usr/local/lib/python3.10/dist-packages (from matplotlib->spatialmath-python) (1.4.4)\n",
            "Requirement already satisfied: packaging>=20.0 in /usr/local/lib/python3.10/dist-packages (from matplotlib->spatialmath-python) (23.1)\n",
            "Requirement already satisfied: pillow>=6.2.0 in /usr/local/lib/python3.10/dist-packages (from matplotlib->spatialmath-python) (9.4.0)\n",
            "Requirement already satisfied: pyparsing>=2.3.1 in /usr/local/lib/python3.10/dist-packages (from matplotlib->spatialmath-python) (3.1.1)\n",
            "Requirement already satisfied: python-dateutil>=2.7 in /usr/local/lib/python3.10/dist-packages (from matplotlib->spatialmath-python) (2.8.2)\n",
            "Requirement already satisfied: six>=1.5 in /usr/local/lib/python3.10/dist-packages (from python-dateutil>=2.7->matplotlib->spatialmath-python) (1.16.0)\n",
            "Installing collected packages: colored, ansitable, spatialmath-python\n",
            "Successfully installed ansitable-0.9.7 colored-2.2.3 spatialmath-python-1.1.8\n"
          ]
        }
      ],
      "source": [
        "try:\n",
        "    from google.colab import output\n",
        "    print('Running on CoLab')\n",
        "    output.enable_custom_widget_manager()\n",
        "    !pip install ipympl\n",
        "    !pip install spatialmath-python\n",
        "    COLAB = True\n",
        "    SWIFT = False\n",
        "except ModuleNotFoundError:\n",
        "    COLAB = False\n",
        "    SWIFT = False\n",
        "from IPython.core.interactiveshell import InteractiveShell\n",
        "InteractiveShell.ast_node_interactivity = \"last_expr_or_assign\"\n",
        "from IPython.display import HTML\n",
        "\n",
        "# standard imports\n",
        "import numpy as np\n",
        "from scipy import linalg\n",
        "%matplotlib widget\n",
        "import matplotlib.pyplot as plt\n",
        "import math\n",
        "from math import pi\n",
        "np.set_printoptions(\n",
        "    linewidth=120, formatter={\n",
        "        'float': lambda x: f\"{0:8.4g}\" if abs(x) < 1e-10 else f\"{x:8.4g}\"})\n",
        "np.random.seed(0)\n",
        "from spatialmath import *\n",
        "from spatialmath.base import *"
      ]
    },
    {
      "cell_type": "markdown",
      "source": [
        "2.2.1.1 2D Rotation Matrix"
      ],
      "metadata": {
        "id": "VL6wO3i4yQ09"
      }
    },
    {
      "cell_type": "markdown",
      "source": [
        "We will create a SO(2) rotation matrix using the Teoolbox software"
      ],
      "metadata": {
        "id": "fDIgQNSuyozW"
      }
    },
    {
      "cell_type": "code",
      "source": [
        "R = rot2(0.3)"
      ],
      "metadata": {
        "id": "tMUiFremySSe"
      },
      "execution_count": null,
      "outputs": []
    },
    {
      "cell_type": "markdown",
      "source": [
        "The angle is specified in readians. The rotation matrix can ebe visualized as  coordinate frame."
      ],
      "metadata": {
        "id": "0aRXO0sfyxo0"
      }
    },
    {
      "cell_type": "code",
      "source": [
        "plotvol2(new=True)  # for matplotlib/widget\n",
        "trplot2(R);"
      ],
      "metadata": {
        "id": "ApliIumiyWH6"
      },
      "execution_count": null,
      "outputs": []
    },
    {
      "cell_type": "markdown",
      "source": [
        "2.2.2 Pose in Two Dimensions"
      ],
      "metadata": {
        "id": "t4Ji3hSmzASv"
      }
    },
    {
      "cell_type": "code",
      "source": [
        "rot2(0.3)"
      ],
      "metadata": {
        "id": "S_8gmgR5zEXy"
      },
      "execution_count": null,
      "outputs": []
    },
    {
      "cell_type": "markdown",
      "source": [
        "The homogeneous transformation matrix for a rotation of 0.3 radiancs is:"
      ],
      "metadata": {
        "id": "haRbN6YCze0g"
      }
    },
    {
      "cell_type": "code",
      "source": [
        "trot2(0.3)"
      ],
      "metadata": {
        "id": "h6yauKLTzJ-8"
      },
      "execution_count": null,
      "outputs": []
    },
    {
      "cell_type": "markdown",
      "source": [
        "Now we will compose two relative pose: a translation of (1,2) followed by a rotation of 30 degrees"
      ],
      "metadata": {
        "id": "sXApgyjizuV5"
      }
    },
    {
      "cell_type": "code",
      "source": [
        "TA = transl2(1, 2) @ trot2(30, \"deg\")"
      ],
      "metadata": {
        "colab": {
          "base_uri": "https://localhost:8080/"
        },
        "id": "c3EC6jh6z2I1",
        "outputId": "87153333-534c-4796-efb8-dffd68af99df"
      },
      "execution_count": null,
      "outputs": [
        {
          "output_type": "execute_result",
          "data": {
            "text/plain": [
              "array([[   0.866,     -0.5,        1],\n",
              "       [     0.5,    0.866,        2],\n",
              "       [       0,        0,        1]])"
            ]
          },
          "metadata": {},
          "execution_count": 3
        }
      ]
    },
    {
      "cell_type": "markdown",
      "source": [
        "The function `transl2` creates a 2D relative pose with a finite translation but zero rotation. While `trot2` creates a relative pose with a finite rotation but zero translation. We can visualise this coordinate frame representing this pose relative to the reference frame as follows:"
      ],
      "metadata": {
        "id": "bPHkfFde0Dh5"
      }
    },
    {
      "cell_type": "code",
      "source": [
        "plotvol2([0, 5], new=True); # new plot with both axes from 0 to 5\n",
        "T0 = transl2(0, 0);\n",
        "trplot2(T0, frame=\"0\", color=\"k\");  # reference frame\n",
        "trplot2(TA, frame=\"A\", color=\"b\");"
      ],
      "metadata": {
        "colab": {
          "base_uri": "https://localhost:8080/",
          "height": 569,
          "referenced_widgets": [
            "39c6915b39e2419b9805ff085d061d54",
            "f9aefc9660b2476eb20516bfbf387c1c",
            "216f9dfd3d98488dbbe1f40d03c71bd6",
            "5cea63f1a7fc4755973cfeb4dc090511"
          ]
        },
        "id": "FcENp2sP03HE",
        "outputId": "c6f02a26-acaf-4ab1-e81a-af748b7c4883"
      },
      "execution_count": null,
      "outputs": [
        {
          "output_type": "display_data",
          "data": {
            "text/plain": [
              "Canvas(toolbar=Toolbar(toolitems=[('Home', 'Reset original view', 'home', 'home'), ('Back', 'Back to previous …"
            ],
            "image/png": "[encoded data removed]",
            "text/html": [
              "\n",
              "            <div style=\"display: inline-block;\">\n",
              "                <div class=\"jupyter-widgets widget-label\" style=\"text-align: center;\">\n",
              "                    Figure\n",
              "                </div>\n",
              "                <img src='data:image/png;base64,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' width=640.0/>\n",
              "            </div>\n",
              "        "
            ],
            "application/vnd.jupyter.widget-view+json": {
              "version_major": 2,
              "version_minor": 0,
              "model_id": "39c6915b39e2419b9805ff085d061d54"
            }
          },
          "metadata": {
            "application/vnd.jupyter.widget-view+json": {
              "colab": {
                "custom_widget_manager": {
                  "url": "https://ssl.gstatic.com/colaboratory-static/widgets/colab-cdn-widget-manager/b3e629b1971e1542/manager.min.js"
                }
              }
            }
          }
        }
      ]
    }
  ]
}